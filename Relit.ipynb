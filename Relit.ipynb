{
 "cells": [
  {
   "cell_type": "code",
   "execution_count": 26,
   "metadata": {},
   "outputs": [],
   "source": [
    "%matplotlib inline\n",
    "import torch\n",
    "import torch.nn as nn\n",
    "# import pandas as pd\n",
    "import numpy as np\n",
    "import torchvision\n",
    "from torchvision import transforms\n",
    "from torch.utils.data import Dataset, DataLoader\n",
    "from PIL import Image\n",
    "from torch import autograd\n",
    "from torch.autograd import Variable\n",
    "from torchvision.utils import make_grid\n",
    "import matplotlib.pyplot as plt\n",
    "import matplotlib.image as mpimg"
   ]
  },
  {
   "cell_type": "code",
   "execution_count": 27,
   "metadata": {},
   "outputs": [
    {
     "data": {
      "text/plain": [
       "(1080, 1920, 4)"
      ]
     },
     "execution_count": 27,
     "metadata": {},
     "output_type": "execute_result"
    },
    {
     "data": {
      "image/png": "[encoded data removed]",
      "text/plain": [
       "<Figure size 432x288 with 1 Axes>"
      ]
     },
     "metadata": {
      "needs_background": "light"
     },
     "output_type": "display_data"
    }
   ],
   "source": [
    "img = mpimg.imread('./dataset/sphere/-6.000000_6.000000.png')\n",
    "# img_cropped = img[77:141, 57:121, :]\n",
    "imgplot = plt.imshow(img)\n",
    "# imgplot = plt.imshow(img_cropped)\n",
    "img.shape"
   ]
  },
  {
   "cell_type": "code",
   "execution_count": 28,
   "metadata": {},
   "outputs": [],
   "source": [
    "# import cv2\n",
    "# img = cv2.imread('./dataset/sphere/-6.000000_6.000000.png',0)\n",
    "# edges = cv2.Canny(img,60,180)\n",
    "\n",
    "# print(edges.shape)\n",
    "\n",
    "# plt.subplot(121),plt.imshow(img,cmap = 'gray')\n",
    "# plt.title('Original Image'), plt.xticks([]), plt.yticks([])\n",
    "# plt.subplot(122),plt.imshow(edges,cmap = 'gray')\n",
    "# plt.title('Edge Image'), plt.xticks([]), plt.yticks([])\n",
    "# plt.imshow(img)\n",
    "\n",
    "# plt.show()"
   ]
  },
  {
   "cell_type": "code",
   "execution_count": 29,
   "metadata": {},
   "outputs": [
    {
     "data": {
      "text/plain": [
       "device(type='cuda')"
      ]
     },
     "execution_count": 29,
     "metadata": {},
     "output_type": "execute_result"
    }
   ],
   "source": [
    "if torch.cuda.is_available():\n",
    "    device = torch.device('cuda')\n",
    "else:\n",
    "    device = torch.device('cpu')\n",
    "device"
   ]
  },
  {
   "cell_type": "code",
   "execution_count": 30,
   "metadata": {},
   "outputs": [],
   "source": [
    "im_s = 16\n",
    "\n",
    "transform = transforms.Compose([\n",
    "    transforms.Resize(32),\n",
    "    transforms.CenterCrop(im_s),\n",
    "    transforms.Grayscale(),\n",
    "    transforms.ToTensor(),\n",
    "    transforms.Normalize(mean=(0.5, ), std=(0.5, )),\n",
    "])"
   ]
  },
  {
   "cell_type": "code",
   "execution_count": 31,
   "metadata": {},
   "outputs": [],
   "source": [
    "def imshow(img):\n",
    "    # npimg in (channel, height, width)\n",
    "    npimg = img.numpy()\n",
    "    plt.imshow(np.transpose(npimg, (1, 2, 0)))\n",
    "    plt.show()"
   ]
  },
  {
   "cell_type": "code",
   "execution_count": 32,
   "metadata": {},
   "outputs": [],
   "source": [
    "# Add file name to the label, can be iterated as follow:\n",
    "# for i, data in enumerate(train_loader):\n",
    "#     images,labels,paths = data\n",
    "#     paths = [path.split('/')[-1] for path in paths]\n",
    "#     print(paths)\n",
    "class ImageFolderWithPaths(torchvision.datasets.ImageFolder):\n",
    "    def __getitem__(self, index):\n",
    "        return super(ImageFolderWithPaths, self).__getitem__(index) + (self.imgs[index][0],)"
   ]
  },
  {
   "cell_type": "code",
   "execution_count": 33,
   "metadata": {},
   "outputs": [
    {
     "name": "stdout",
     "output_type": "stream",
     "text": [
      "['sphere']\n"
     ]
    }
   ],
   "source": [
    "train_dataset = ImageFolderWithPaths(\n",
    "    root='./dataset/',\n",
    "    transform=transform\n",
    ")\n",
    "train_loader = DataLoader(\n",
    "    train_dataset,\n",
    "    batch_size=20,\n",
    "    num_workers=5,\n",
    "    shuffle=True,\n",
    "    drop_last=True\n",
    ")\n",
    "print(train_dataset.classes)"
   ]
  },
  {
   "cell_type": "code",
   "execution_count": 34,
   "metadata": {},
   "outputs": [
    {
     "name": "stderr",
     "output_type": "stream",
     "text": [
      "Clipping input data to the valid range for imshow with RGB data ([0..1] for floats or [0..255] for integers).\n"
     ]
    },
    {
     "name": "stdout",
     "output_type": "stream",
     "text": [
      "torch.Size([20, 1, 16, 16])\n"
     ]
    },
    {
     "data": {
      "image/png": "[encoded data removed]",
      "text/plain": [
       "<Figure size 432x288 with 1 Axes>"
      ]
     },
     "metadata": {
      "needs_background": "light"
     },
     "output_type": "display_data"
    }
   ],
   "source": [
    "# get some random training images\n",
    "dataiter = iter(train_loader)\n",
    "quick_images, quick_labels, quick_paths = dataiter.next()\n",
    "\n",
    "print(quick_images.shape)\n",
    "\n",
    "# print(quick_images[0].max())\n",
    "# print(quick_images[0].min())\n",
    "\n",
    "# show images\n",
    "imshow(torchvision.utils.make_grid(quick_images))\n",
    "\n",
    "# Not sure if normalization is good or not as it darkens the image"
   ]
  },
  {
   "cell_type": "code",
   "execution_count": 35,
   "metadata": {},
   "outputs": [],
   "source": [
    "img_shape = (1, im_s, im_s)\n",
    "cuda = True if torch.cuda.is_available() else False"
   ]
  },
  {
   "cell_type": "code",
   "execution_count": 36,
   "metadata": {},
   "outputs": [],
   "source": [
    "class NN(nn.Module):\n",
    "    def __init__(self):\n",
    "        super(NN, self).__init__()\n",
    "        self.model = nn.Sequential(\n",
    "            # Pixel Coord + Light Coord + Average Pixel Color\n",
    "            nn.Linear(2 + 2 + 1, 32),\n",
    "            nn.Tanh(),\n",
    "            nn.Linear(32, 32),\n",
    "            nn.Tanh(),\n",
    "            nn.Linear(32, 1),\n",
    "            nn.Tanh()\n",
    "        )\n",
    "    def forward(self, pixel_coord, light_coord, average_rgb):\n",
    "        d_in = torch.cat((pixel_coord, light_coord, average_rgb), -1)\n",
    "        rgb = self.model(d_in)\n",
    "        return rgb"
   ]
  },
  {
   "cell_type": "code",
   "execution_count": 37,
   "metadata": {},
   "outputs": [],
   "source": [
    "# Loss functions\n",
    "loss = torch.nn.MSELoss()\n",
    "\n",
    "# Initialize generator and discriminator\n",
    "DNN = NN()\n",
    "\n",
    "if cuda:\n",
    "    DNN.cuda()\n",
    "    loss.cuda()"
   ]
  },
  {
   "cell_type": "code",
   "execution_count": 38,
   "metadata": {},
   "outputs": [],
   "source": [
    "# Optimizers\n",
    "optimizer = torch.optim.Adam(DNN.parameters(), lr=0.001, betas=(0.9, 0.999))"
   ]
  },
  {
   "cell_type": "code",
   "execution_count": 39,
   "metadata": {},
   "outputs": [],
   "source": [
    "FloatTensor = torch.cuda.FloatTensor if cuda else torch.FloatTensor\n",
    "LongTensor = torch.cuda.LongTensor if cuda else torch.LongTensor\n",
    "CharTensor = torch.cuda.CharTensor if cuda else torch.CharTensor"
   ]
  },
  {
   "cell_type": "code",
   "execution_count": 40,
   "metadata": {},
   "outputs": [],
   "source": [
    "# Compute Average Color of All Pixels of All Images\n",
    "dic = dict()\n",
    "total_image = 0\n",
    "for i, data in enumerate(train_loader):\n",
    "    imgs,labels,paths = data\n",
    "    # x, y positions of the light\n",
    "    batch_size = imgs.shape[0]\n",
    "    num_channel = imgs.shape[1]\n",
    "    width = imgs.shape[2]\n",
    "    height = imgs.shape[3]\n",
    "    total_image += batch_size\n",
    "    # print(batch_size, num_channel, width, height)\n",
    "    for k in range(batch_size):\n",
    "        for i in range(width):\n",
    "            for j in range(height):\n",
    "                key_name = str(i) + '-' + str(j)\n",
    "                if key_name in dic:\n",
    "                    dic[key_name] = imgs[k, 0, i, j] + dic[key_name]\n",
    "                else:\n",
    "                    dic[key_name] = imgs[k, 0, i, j]"
   ]
  },
  {
   "cell_type": "code",
   "execution_count": 41,
   "metadata": {},
   "outputs": [
    {
     "data": {
      "text/plain": [
       "120"
      ]
     },
     "execution_count": 41,
     "metadata": {},
     "output_type": "execute_result"
    }
   ],
   "source": [
    "avg_img = []\n",
    "for j in range(height):\n",
    "    for i in range(width):\n",
    "        key_name = str(i) + '-' + str(j)\n",
    "        avg_img += [dic[key_name] / total_image]\n",
    "total_image"
   ]
  },
  {
   "cell_type": "code",
   "execution_count": 42,
   "metadata": {},
   "outputs": [
    {
     "name": "stdout",
     "output_type": "stream",
     "text": [
      "[-0.45882395 -0.45882395 -0.45882395 -0.4582357  -0.43156892 -0.37065372\n",
      " -0.31176472 -0.28202617 -0.2816994  -0.31065366 -0.36928123 -0.43104595\n",
      " -0.4582357  -0.45882395 -0.45882395 -0.45882395 -0.45882395 -0.45882395\n",
      " -0.449216   -0.36189553 -0.25222227 -0.19928111 -0.18372555 -0.17725487\n",
      " -0.17666668 -0.18176474 -0.19601314 -0.24830078 -0.36000013 -0.4489546\n",
      " -0.45882395 -0.45882395 -0.45882395 -0.44732058 -0.32843134 -0.21196087\n",
      " -0.17941175 -0.1646405  -0.15549015 -0.14973852 -0.14895421 -0.15379082\n",
      " -0.16137256 -0.17470592 -0.20614386 -0.3252942  -0.44705915 -0.45882395\n",
      " -0.45594814 -0.3494119  -0.20934646 -0.1760131  -0.15444441 -0.136732\n",
      " -0.12601304 -0.12045748 -0.11993457 -0.12464046 -0.13392153 -0.15006529\n",
      " -0.16993466 -0.20294121 -0.34673214 -0.45594814 -0.41790864 -0.2379086\n",
      " -0.17836604 -0.15372549 -0.12784314 -0.11019606 -0.09908497 -0.09333328\n",
      " -0.09300651 -0.0975163  -0.10784312 -0.1236601  -0.14777775 -0.17156865\n",
      " -0.23228766 -0.41679755 -0.3432681  -0.1928105  -0.16261435 -0.13503265\n",
      " -0.10960784 -0.09045745 -0.07758169 -0.06999997 -0.06954245 -0.07568625\n",
      " -0.08777774 -0.10503265 -0.12882352 -0.15575163 -0.18627451 -0.3407191\n",
      " -0.2791503  -0.18078433 -0.1536601  -0.12450974 -0.09830065 -0.07718953\n",
      " -0.06150326 -0.05287578 -0.05241828 -0.05986926 -0.07398691 -0.09333329\n",
      " -0.11823525 -0.1465359  -0.17385621 -0.27477127 -0.25470594 -0.17660134\n",
      " -0.14725487 -0.11908492 -0.09254896 -0.06967317 -0.05320258 -0.04496728\n",
      " -0.04457514 -0.05117644 -0.066732   -0.08764701 -0.11254899 -0.14032678\n",
      " -0.16954248 -0.24986938 -0.25431386 -0.17620914 -0.1470588  -0.11856209\n",
      " -0.09196075 -0.06934638 -0.05287579 -0.04464051 -0.04424834 -0.05111109\n",
      " -0.06647057 -0.08718952 -0.11209147 -0.14019604 -0.16967319 -0.24967328\n",
      " -0.27869287 -0.18026148 -0.15274504 -0.12379082 -0.09725489 -0.07640522\n",
      " -0.0607843  -0.05254899 -0.05176468 -0.05908495 -0.07307187 -0.09254901\n",
      " -0.1175163  -0.14620909 -0.17385626 -0.27470592 -0.3430719  -0.19189544\n",
      " -0.16189542 -0.13385619 -0.10830065 -0.08921566 -0.07647058 -0.06856207\n",
      " -0.06797382 -0.07418297 -0.08607841 -0.10333332 -0.1280392  -0.15568627\n",
      " -0.18620916 -0.33745116 -0.41764727 -0.23673211 -0.1769935  -0.15241829\n",
      " -0.1264052  -0.10875818 -0.09738561 -0.09150326 -0.09098038 -0.09529411\n",
      " -0.10477122 -0.12111107 -0.14692809 -0.17137259 -0.23189549 -0.41679752\n",
      " -0.45594814 -0.34869298 -0.20764709 -0.17431371 -0.15254898 -0.13483657\n",
      " -0.12379083 -0.11823527 -0.11725485 -0.12137251 -0.13084964 -0.14745094\n",
      " -0.16915035 -0.2026144  -0.34660143 -0.45588276 -0.45882395 -0.44712457\n",
      " -0.3271243  -0.20967323 -0.17699346 -0.1619608  -0.15300652 -0.1465359\n",
      " -0.14549014 -0.15019606 -0.15816996 -0.17307189 -0.20562094 -0.3249674\n",
      " -0.4470592  -0.45882395 -0.45882395 -0.45882395 -0.44902    -0.36052305\n",
      " -0.24967328 -0.1962092  -0.18019609 -0.17352939 -0.17261438 -0.17803918\n",
      " -0.1935948  -0.24751638 -0.3594119  -0.44895464 -0.45882395 -0.45882395\n",
      " -0.45882395 -0.45882395 -0.45882395 -0.4582357  -0.43098068 -0.3690197\n",
      " -0.3091504  -0.27915043 -0.27908507 -0.3088236  -0.3686276  -0.43085006\n",
      " -0.4582357  -0.45882395 -0.45882395 -0.45882395]\n"
     ]
    }
   ],
   "source": [
    "avg_img = np.array(avg_img)\n",
    "print(avg_img)\n",
    "np.save('avg_img', avg_img)"
   ]
  },
  {
   "cell_type": "code",
   "execution_count": 43,
   "metadata": {},
   "outputs": [],
   "source": [
    "loaded_avg_img = np.load('avg_img.npy')"
   ]
  },
  {
   "cell_type": "code",
   "execution_count": 44,
   "metadata": {},
   "outputs": [
    {
     "data": {
      "text/plain": [
       "<matplotlib.image.AxesImage at 0x7fc372b08ad0>"
      ]
     },
     "execution_count": 44,
     "metadata": {},
     "output_type": "execute_result"
    },
    {
     "data": {
      "image/png": "[encoded data removed]",
      "text/plain": [
       "<Figure size 576x576 with 1 Axes>"
      ]
     },
     "metadata": {
      "needs_background": "light"
     },
     "output_type": "display_data"
    }
   ],
   "source": [
    "plt.figure(figsize=(8,8))\n",
    "plt.imshow(loaded_avg_img.reshape(img_shape[1],img_shape[2]), cmap='gray')"
   ]
  },
  {
   "cell_type": "code",
   "execution_count": 45,
   "metadata": {},
   "outputs": [
    {
     "data": {
      "image/png": "[encoded data removed]",
      "text/plain": [
       "<Figure size 432x288 with 1 Axes>"
      ]
     },
     "metadata": {
      "needs_background": "light"
     },
     "output_type": "display_data"
    }
   ],
   "source": [
    "def sample_image(n_row, lr=0, lc=0):\n",
    "    \"\"\"Saves a grid of generated digits ranging from 0 to n_classes\"\"\"\n",
    "    # Sample noise\n",
    "    width = img_shape[1]\n",
    "    height = img_shape[2]\n",
    "    avg_img = torch.from_numpy(loaded_avg_img).to(device)\n",
    "    avg_img = Variable(avg_img.type(FloatTensor))\n",
    "    img_tensor = torch.FloatTensor().to(device)\n",
    "    for k in range(height):\n",
    "        for j in range(width):\n",
    "            # Pixel Coord + Light Coord + Average Pixel Color\n",
    "            avg_value = Variable(avg_img[j + k * width].repeat(1, n_row).view(n_row, 1).type(FloatTensor))\n",
    "            pixel_coord = Variable(torch.FloatTensor([j/width, k/height])).repeat(1, n_row).view(n_row, 2).to(device)\n",
    "            # Default sample location is the light in the middle\n",
    "            light_coord = Variable(torch.FloatTensor([lr, lc])).repeat(1, n_row).view(n_row, 2).to(device)\n",
    "            generate_pixel = DNN(pixel_coord, light_coord, avg_value)\n",
    "            img_tensor = torch.cat((img_tensor, generate_pixel), 1)\n",
    "    \n",
    "    imgs = img_tensor.view(img_tensor.size(0), *img_shape)\n",
    "    plt.imshow(imgs.cpu().data.reshape(n_row*img_shape[1],img_shape[2]) * .5 + .5, cmap='gray', vmin=0,\n",
    "              vmax=1)\n",
    "    #print(np.round(imgs.data * .5 + .5, 2))\n",
    "    #plt.imshow(imgs.data)\n",
    "    #save_image(imgs.data, \"images/%d.png\" % batches_done, nrow=n_row, normalize=True)\n",
    "    \n",
    "sample_image(1)"
   ]
  },
  {
   "cell_type": "code",
   "execution_count": 46,
   "metadata": {},
   "outputs": [
    {
     "data": {
      "text/plain": [
       "NN(\n",
       "  (model): Sequential(\n",
       "    (0): Linear(in_features=5, out_features=32, bias=True)\n",
       "    (1): Tanh()\n",
       "    (2): Linear(in_features=32, out_features=32, bias=True)\n",
       "    (3): Tanh()\n",
       "    (4): Linear(in_features=32, out_features=1, bias=True)\n",
       "    (5): Tanh()\n",
       "  )\n",
       ")"
      ]
     },
     "execution_count": 46,
     "metadata": {},
     "output_type": "execute_result"
    }
   ],
   "source": [
    "# reset params\n",
    "def reset(m):\n",
    "    if isinstance(m, nn.Linear):\n",
    "        m.reset_parameters()\n",
    "DNN.apply(reset)"
   ]
  },
  {
   "cell_type": "code",
   "execution_count": 47,
   "metadata": {},
   "outputs": [
    {
     "data": {
      "image/png": "[encoded data removed]",
      "text/plain": [
       "<Figure size 432x288 with 1 Axes>"
      ]
     },
     "metadata": {
      "needs_background": "light"
     },
     "output_type": "display_data"
    }
   ],
   "source": [
    "from IPython.display import clear_output\n",
    "\n",
    "epochs = 200\n",
    "for epoch in range(epochs):\n",
    "    for i, data in enumerate(train_loader):\n",
    "        optimizer.zero_grad()\n",
    "        # we are using paths here instead of labels\n",
    "        imgs,labels,paths = data\n",
    "        paths = np.array([path.split('/')[-1][:-4].split('_') for path in paths]).astype(float)\n",
    "        paths /= 10.0 # normalize\n",
    "        positions = torch.from_numpy(paths).to(device)\n",
    "        avg_img = torch.from_numpy(loaded_avg_img).to(device)\n",
    "        imgs = imgs.to(device)\n",
    "        batch_size = imgs.shape[0]\n",
    "        width = imgs.shape[2]\n",
    "        height = imgs.shape[3]\n",
    "\n",
    "        # Configure input\n",
    "        # Pixel Coord + Light Coord + Average Pixel Color\n",
    "        avg_img = Variable(avg_img.type(FloatTensor))\n",
    "        light_coord = Variable(positions.type(FloatTensor))\n",
    "#         print(avg_img.shape) \n",
    "#         print(light_coord.shape)\n",
    "        total_losses = 0\n",
    "        for k in range(height):\n",
    "            for j in range(width):\n",
    "                # Process the batch at this pixel coord\n",
    "                \n",
    "                pixel_value = Variable(imgs[:, 0, j, k].view(20, 1).type(FloatTensor))\n",
    "                \n",
    "                #pixel_value = Variable(torch.FloatTensor([1.0])).repeat(1, 20).view(20, 1).to(device)\n",
    "                avg_value = Variable(avg_img[j + k * width].repeat(1, 20).view(20, 1).type(FloatTensor))\n",
    "                #avg_value = Variable(torch.FloatTensor([0.0])).repeat(1, 20).view(20, 1).to(device)\n",
    "                \n",
    "                pixel_coord = Variable(torch.FloatTensor([j/width, k/height])).repeat(1, 20).view(20, 2).to(device)\n",
    "                \n",
    "                generate_pixel = DNN(pixel_coord, light_coord, avg_value)\n",
    "                                \n",
    "                # Image with all lighting conditions\n",
    "                total_loss = loss(generate_pixel, pixel_value)\n",
    "                total_losses += total_loss.item()\n",
    "#                 if j == width/2 or k == width/2:\n",
    "#                     print(\n",
    "#                         \"[Epoch %d/%d] [Batch %d/%d] [Pixel %d-%d] [Loss: %f]\"\n",
    "#                         % (epoch + 1, epochs, i + 1, len(train_loader), j, k, total_loss)\n",
    "#                     )\n",
    "                total_loss.backward()\n",
    "        optimizer.step()\n",
    "\n",
    "        print(\n",
    "            \"[Epoch %d/%d] [Batch %d/%d] [Total loss: %f]\"\n",
    "            % (epoch + 1, epochs, i + 1, len(train_loader), total_losses)\n",
    "        )\n",
    "        \n",
    "        clear_output(wait=True)\n",
    "        sample_image(1)\n",
    "        plt.show()\n",
    "\n",
    "#         batches_done = epoch * len(dataloader) + i\n",
    "#         if batches_done % opt.sample_interval == 0:\n",
    "#             sample_image(n_row=10, batches_done=batches_done)"
   ]
  },
  {
   "cell_type": "code",
   "execution_count": 24,
   "metadata": {},
   "outputs": [
    {
     "data": {
      "application/vnd.jupyter.widget-view+json": {
       "model_id": "db144cc00f7b4b40a042a7c2b0e4f8b6",
       "version_major": 2,
       "version_minor": 0
      },
      "text/plain": [
       "interactive(children=(FloatSlider(value=0.0, description='lr', max=1.0, min=-1.0), FloatSlider(value=0.0, desc…"
      ]
     },
     "metadata": {},
     "output_type": "display_data"
    },
    {
     "data": {
      "text/plain": [
       "<function __main__.test(lr, lc)>"
      ]
     },
     "execution_count": 24,
     "metadata": {},
     "output_type": "execute_result"
    }
   ],
   "source": [
    "from ipywidgets import interact\n",
    "\n",
    "def test(lr, lc):\n",
    "    sample_image(1, lr, lc)\n",
    "    \n",
    "interact(test,lr=(-1, 1, .1), lc=(-1, 1, .1))"
   ]
  },
  {
   "cell_type": "code",
   "execution_count": null,
   "metadata": {},
   "outputs": [],
   "source": []
  }
 ],
 "metadata": {
  "kernelspec": {
   "display_name": "Python 3",
   "language": "python",
   "name": "python3"
  },
  "language_info": {
   "codemirror_mode": {
    "name": "ipython",
    "version": 3
   },
   "file_extension": ".py",
   "mimetype": "text/x-python",
   "name": "python",
   "nbconvert_exporter": "python",
   "pygments_lexer": "ipython3",
   "version": "3.7.8"
  }
 },
 "nbformat": 4,
 "nbformat_minor": 2
}
