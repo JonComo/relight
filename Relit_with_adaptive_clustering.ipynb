{
 "cells": [
  {
   "cell_type": "code",
   "execution_count": 4,
   "metadata": {},
   "outputs": [],
   "source": [
    "%matplotlib inline\n",
    "import torch\n",
    "import torch.nn as nn\n",
    "import numpy as np\n",
    "import torchvision\n",
    "from torchvision import transforms\n",
    "from torch.utils.data import Dataset, DataLoader\n",
    "from PIL import Image\n",
    "from torch import autograd\n",
    "from torch.autograd import Variable\n",
    "from torchvision.utils import make_grid\n",
    "import matplotlib.pyplot as plt\n",
    "import matplotlib.image as mpimg\n",
    "import copy"
   ]
  },
  {
   "cell_type": "code",
   "execution_count": 5,
   "metadata": {},
   "outputs": [
    {
     "data": {
      "text/plain": [
       "device(type='cuda')"
      ]
     },
     "execution_count": 5,
     "metadata": {},
     "output_type": "execute_result"
    }
   ],
   "source": [
    "if torch.cuda.is_available():\n",
    "    device = torch.device('cuda')\n",
    "else:\n",
    "    device = torch.device('cpu')\n",
    "device"
   ]
  },
  {
   "cell_type": "code",
   "execution_count": 6,
   "metadata": {},
   "outputs": [],
   "source": [
    "im_s = 32\n",
    "\n",
    "transform = transforms.Compose([\n",
    "    transforms.Resize(im_s),\n",
    "    transforms.CenterCrop(im_s),\n",
    "    transforms.Grayscale(),\n",
    "    transforms.ToTensor(),\n",
    "    transforms.Normalize(mean=(0.5, ), std=(0.5, )),\n",
    "])"
   ]
  },
  {
   "cell_type": "code",
   "execution_count": 7,
   "metadata": {},
   "outputs": [],
   "source": [
    "class ImageFolderWithPaths(torchvision.datasets.ImageFolder):\n",
    "    def __getitem__(self, index):\n",
    "        return super(ImageFolderWithPaths, self).__getitem__(index) + (self.imgs[index][0],)"
   ]
  },
  {
   "cell_type": "code",
   "execution_count": 8,
   "metadata": {},
   "outputs": [
    {
     "name": "stdout",
     "output_type": "stream",
     "text": [
      "['cube']\n"
     ]
    }
   ],
   "source": [
    "train_dataset = ImageFolderWithPaths(\n",
    "    root='./dataset/',\n",
    "    transform=transform\n",
    ")\n",
    "train_loader = DataLoader(\n",
    "    train_dataset,\n",
    "    batch_size=20,\n",
    "    num_workers=5,\n",
    "    shuffle=True,\n",
    "    drop_last=True\n",
    ")\n",
    "print(train_dataset.classes)"
   ]
  },
  {
   "cell_type": "code",
   "execution_count": 9,
   "metadata": {},
   "outputs": [],
   "source": [
    "def imshow(img):\n",
    "    # npimg in (channel, height, width)\n",
    "    npimg = img.numpy()\n",
    "    plt.imshow(np.transpose(npimg, (1, 2, 0)), cmap='gray')\n",
    "    plt.show()"
   ]
  },
  {
   "cell_type": "code",
   "execution_count": 10,
   "metadata": {},
   "outputs": [
    {
     "name": "stderr",
     "output_type": "stream",
     "text": [
      "Clipping input data to the valid range for imshow with RGB data ([0..1] for floats or [0..255] for integers).\n"
     ]
    },
    {
     "name": "stdout",
     "output_type": "stream",
     "text": [
      "torch.Size([20, 1, 32, 32])\n"
     ]
    },
    {
     "data": {
      "image/png": "[encoded data removed]",
      "text/plain": [
       "<Figure size 432x288 with 1 Axes>"
      ]
     },
     "metadata": {
      "needs_background": "light"
     },
     "output_type": "display_data"
    }
   ],
   "source": [
    "# get some random training images\n",
    "dataiter = iter(train_loader)\n",
    "quick_images, quick_labels, quick_paths = dataiter.next()\n",
    "\n",
    "print(quick_images.shape)\n",
    "\n",
    "# show images\n",
    "# print(quick_paths)\n",
    "imshow(torchvision.utils.make_grid(quick_images))"
   ]
  },
  {
   "cell_type": "code",
   "execution_count": 11,
   "metadata": {},
   "outputs": [],
   "source": [
    "img_shape = (1, im_s, im_s)\n",
    "cuda = True if torch.cuda.is_available() else False"
   ]
  },
  {
   "cell_type": "code",
   "execution_count": 12,
   "metadata": {},
   "outputs": [],
   "source": [
    "class cluster_NN(nn.Module):\n",
    "    def __init__(self, level, xy):\n",
    "        super(cluster_NN, self).__init__()\n",
    "        self.level = level\n",
    "        self.pixel = xy\n",
    "        self.model = nn.Sequential(\n",
    "            # Pixel Coord + Light Coord + Average Pixel Color\n",
    "            nn.Linear(2 + 2 + 1, 16),\n",
    "            nn.LeakyReLU(),\n",
    "            nn.Linear(16, 16),\n",
    "            nn.LeakyReLU(),\n",
    "            nn.Linear(16, 1),\n",
    "            nn.Tanh()\n",
    "        )\n",
    "    def forward(self, pixel_coord, light_coord, average_rgb):\n",
    "        d_in = torch.cat((pixel_coord, light_coord, average_rgb), -1)\n",
    "        rgb = self.model(d_in)\n",
    "        return rgb"
   ]
  },
  {
   "cell_type": "code",
   "execution_count": 111,
   "metadata": {},
   "outputs": [],
   "source": [
    "# Loss functions\n",
    "loss = torch.nn.MSELoss()\n",
    "if cuda:\n",
    "    loss.cuda()"
   ]
  },
  {
   "cell_type": "code",
   "execution_count": 135,
   "metadata": {},
   "outputs": [
    {
     "name": "stdout",
     "output_type": "stream",
     "text": [
      "207\n"
     ]
    }
   ],
   "source": [
    "num_weights = 5 * 16 + 16 * 16 + 16 * 16 + 16\n",
    "num_images = 120\n",
    "num_pixels = im_s * im_s\n",
    "lv0_num_clus = int(num_pixels / 25 * num_weights / num_images)\n",
    "print(lv0_num_clus)\n",
    "max_lvl = 3"
   ]
  },
  {
   "cell_type": "code",
   "execution_count": 136,
   "metadata": {},
   "outputs": [
    {
     "data": {
      "text/plain": [
       "4"
      ]
     },
     "execution_count": 136,
     "metadata": {},
     "output_type": "execute_result"
    }
   ],
   "source": [
    "cluster_lvl = []\n",
    "optimizer_lvl = []\n",
    "\n",
    "cluster_0 = []\n",
    "cluster_1 = []\n",
    "cluster_2 = []\n",
    "cluster_3 = []\n",
    "optimizer_0 = []\n",
    "optimizer_1 = []\n",
    "optimizer_2 = []\n",
    "optimizer_3 = []\n",
    "\n",
    "# Initialize all cluster NN\n",
    "for i in range(lv0_num_clus):\n",
    "    xy = np.random.uniform(0, 1, (2, ))\n",
    "    nun = cluster_NN(0, (xy[0],xy[1]))\n",
    "    if cuda:\n",
    "        nun.cuda()\n",
    "    cluster_0 += [nun]\n",
    "    optimizer_0 += [torch.optim.Adam(nun.parameters(), lr=0.001, betas=(0.9, 0.999))]\n",
    "\n",
    "for i in range(int(lv0_num_clus / 4)):\n",
    "    xy = np.random.uniform(0, 1, (2, ))\n",
    "    nun = cluster_NN(1, (xy[0],xy[1]))\n",
    "    if cuda:\n",
    "        nun.cuda()\n",
    "    cluster_1 += [nun]\n",
    "    optimizer_1 += [torch.optim.Adam(nun.parameters(), lr=0.001, betas=(0.9, 0.999))]\n",
    "\n",
    "for i in range(int(lv0_num_clus / 4 / 4)):\n",
    "    xy = np.random.uniform(0, 1, (2, ))\n",
    "    nun = cluster_NN(2, (xy[0],xy[1]))\n",
    "    if cuda:\n",
    "        nun.cuda()\n",
    "    cluster_2 += [nun]\n",
    "    optimizer_2 += [torch.optim.Adam(nun.parameters(), lr=0.001, betas=(0.9, 0.999))]\n",
    "\n",
    "for i in range(int(lv0_num_clus / 4 / 4 / 4)):\n",
    "    xy = np.random.uniform(0, 1, (2, ))\n",
    "    nun = cluster_NN(3, (xy[0],xy[1]))\n",
    "    if cuda:\n",
    "        nun.cuda()\n",
    "    cluster_3 += [nun]\n",
    "    optimizer_3 += [torch.optim.Adam(nun.parameters(), lr=0.001, betas=(0.9, 0.999))]\n",
    "    \n",
    "cluster_lvl += [cluster_0, cluster_1, cluster_2, cluster_3]\n",
    "optimizer_lvl += [optimizer_0, optimizer_1, optimizer_2, optimizer_3]\n",
    "len(cluster_lvl)\n",
    "len(optimizer_lvl)"
   ]
  },
  {
   "cell_type": "code",
   "execution_count": 137,
   "metadata": {},
   "outputs": [
    {
     "name": "stdout",
     "output_type": "stream",
     "text": [
      "level 0\n",
      "level 1\n",
      "level 2\n",
      "level 3\n"
     ]
    }
   ],
   "source": [
    "from sklearn.neighbors import KNeighborsClassifier\n",
    "\n",
    "knns = []\n",
    "\n",
    "for i in range(len(cluster_lvl)):\n",
    "    print('level %i' % i)\n",
    "    length = len(cluster_lvl[i])\n",
    "    samples = np.array(list(map(lambda x: x.pixel, cluster_lvl[i])))\n",
    "#     print(samples.shape) # xy pixel\n",
    "    knn = NearestNeighbors(n_neighbors=length)\n",
    "    knn.fit(samples, )\n",
    "#     print(knn.kneighbors([[1,1]], return_distance=False)[0][0])\n",
    "    knns += [knn]"
   ]
  },
  {
   "cell_type": "code",
   "execution_count": 138,
   "metadata": {},
   "outputs": [],
   "source": [
    "FloatTensor = torch.cuda.FloatTensor if cuda else torch.FloatTensor\n",
    "LongTensor = torch.cuda.LongTensor if cuda else torch.LongTensor\n",
    "CharTensor = torch.cuda.CharTensor if cuda else torch.CharTensor"
   ]
  },
  {
   "cell_type": "code",
   "execution_count": 139,
   "metadata": {},
   "outputs": [],
   "source": [
    "# Compute Average Color of All Pixels of All Images\n",
    "def avg_save(path):\n",
    "    dic = dict()\n",
    "    total_image = 0\n",
    "    for i, data in enumerate(train_loader):\n",
    "        imgs,labels,paths = data\n",
    "        # x, y positions of the light\n",
    "        batch_size = imgs.shape[0]\n",
    "        num_channel = imgs.shape[1]\n",
    "        width = imgs.shape[2]\n",
    "        height = imgs.shape[3]\n",
    "        total_image += batch_size\n",
    "        # print(batch_size, num_channel, width, height)\n",
    "        for k in range(batch_size):\n",
    "            for i in range(width):\n",
    "                for j in range(height):\n",
    "                    key_name = str(i) + '-' + str(j)\n",
    "                    if key_name in dic:\n",
    "                        dic[key_name] = imgs[k, 0, i, j] + dic[key_name]\n",
    "                    else:\n",
    "                        dic[key_name] = imgs[k, 0, i, j]\n",
    "    avg_img = []\n",
    "    for j in range(height):\n",
    "        for i in range(width):\n",
    "            key_name = str(i) + '-' + str(j)\n",
    "            avg_img += [dic[key_name] / total_image]\n",
    "    print(total_image)\n",
    "    np.save(path, np.array(avg_img))"
   ]
  },
  {
   "cell_type": "code",
   "execution_count": 140,
   "metadata": {},
   "outputs": [],
   "source": [
    "# avg_img = avg_save('avg_flower_256')\n",
    "loaded_avg_img = np.load('./avg/avg_cube_32.npy')"
   ]
  },
  {
   "cell_type": "code",
   "execution_count": 141,
   "metadata": {},
   "outputs": [
    {
     "data": {
      "text/plain": [
       "<matplotlib.image.AxesImage at 0x7f5b9ebcd0d0>"
      ]
     },
     "execution_count": 141,
     "metadata": {},
     "output_type": "execute_result"
    },
    {
     "data": {
      "image/png": "[encoded data removed]",
      "text/plain": [
       "<Figure size 576x576 with 1 Axes>"
      ]
     },
     "metadata": {
      "needs_background": "light"
     },
     "output_type": "display_data"
    }
   ],
   "source": [
    "plt.figure(figsize=(8,8))\n",
    "plt.imshow(loaded_avg_img.reshape(img_shape[1],img_shape[2], order='F') * .5 + .5, cmap='gray', )"
   ]
  },
  {
   "cell_type": "code",
   "execution_count": 142,
   "metadata": {},
   "outputs": [],
   "source": [
    "def sample_image(n_row, loaded_avg_img, lr=0, lc=0):\n",
    "    \"\"\"Saves a grid of generated digits ranging from 0 to n_classes\"\"\"\n",
    "    # Sample noise\n",
    "    width = img_shape[1]\n",
    "    height = img_shape[2]\n",
    "    avg_img = torch.from_numpy(loaded_avg_img).to(device)\n",
    "    avg_img = Variable(avg_img.type(FloatTensor))\n",
    "    img_tensor = torch.FloatTensor().to(device)\n",
    "    for k in range(height):\n",
    "        for j in range(width):\n",
    "            # Pixel Coord + Light Coord + Average Pixel Color\n",
    "            avg_value = Variable(avg_img[j + k * width].repeat(1, n_row).view(n_row, 1).type(FloatTensor))\n",
    "            pixel_coord = Variable(torch.FloatTensor([j/width, k/height])).repeat(1, n_row).view(n_row, 2).to(device)\n",
    "            # Default sample location is the light in the middle\n",
    "            light_coord = Variable(torch.FloatTensor([lr, lc])).repeat(1, n_row).view(n_row, 2).to(device)\n",
    "            lvl = pixel_lvls[str(j) + '-' + str(k)]\n",
    "            size_of_cluster = min(5, len(cluster_lvl[lvl]))\n",
    "            top_nn_idxs = knns[lvl].kneighbors([[j/width,k/height]], return_distance=False)[0][:size_of_cluster]\n",
    "            gen_pix = None\n",
    "            for idx in top_nn_idxs:\n",
    "                if gen_pix == None:\n",
    "                    gen_pix = cluster_lvl[lvl][idx](pixel_coord, light_coord, avg_value)\n",
    "                else:\n",
    "                    gen_pix += cluster_lvl[lvl][idx](pixel_coord, light_coord, avg_value)\n",
    "            gen_pix /= size_of_cluster\n",
    "            img_tensor = torch.cat((img_tensor, gen_pix), 1)\n",
    "    \n",
    "    print(img_tensor.shape)\n",
    "    plt.imshow(img_tensor.cpu().data.detach().numpy().reshape(img_shape[1],img_shape[2],order='F') * .5 + .5, cmap='gray', vmin=0,\n",
    "              vmax=1)"
   ]
  },
  {
   "cell_type": "code",
   "execution_count": 143,
   "metadata": {},
   "outputs": [],
   "source": [
    "def reset(m):\n",
    "    if isinstance(m, nn.Linear):\n",
    "        m.reset_parameters()\n",
    "for i in range(len(cluster_lvl)):\n",
    "    for j in range(len(cluster_lvl[i])):\n",
    "        cluster_lvl[i][j].apply(reset)"
   ]
  },
  {
   "cell_type": "code",
   "execution_count": 144,
   "metadata": {},
   "outputs": [],
   "source": [
    "pixel_lvls = dict()"
   ]
  },
  {
   "cell_type": "code",
   "execution_count": 145,
   "metadata": {},
   "outputs": [],
   "source": [
    "# for inference\n",
    "def update_pixel(x, y, lvl):\n",
    "    key_name = str(x) + '-' + str(y)\n",
    "    if key_name in pixel_lvls:\n",
    "        if pixel_lvls[key_name] > lvl:\n",
    "            pixel_lvls[key_name] = lvl\n",
    "    else:\n",
    "        pixel_lvls[key_name] = lvl"
   ]
  },
  {
   "cell_type": "code",
   "execution_count": 146,
   "metadata": {
    "scrolled": true
   },
   "outputs": [
    {
     "name": "stdout",
     "output_type": "stream",
     "text": [
      "torch.Size([1, 1024])\n"
     ]
    },
    {
     "data": {
      "image/png": "[encoded data removed]",
      "text/plain": [
       "<Figure size 432x288 with 1 Axes>"
      ]
     },
     "metadata": {
      "needs_background": "light"
     },
     "output_type": "display_data"
    }
   ],
   "source": [
    "from IPython.display import clear_output\n",
    "epochs = 5\n",
    "\n",
    "# num_weights = 5 * 16 + 16 * 16 + 16 * 16 + 16\n",
    "# num_images = 120\n",
    "# lv0_num_clus = int(25 * num_weights / num_images)\n",
    "# max_lvl = 3\n",
    "\n",
    "for epoch in range(epochs):\n",
    "    # Iterate all images before calculate the loss of a single pixel\n",
    "    for i, data in enumerate(train_loader):\n",
    "#         optimizer.zero_grad()\n",
    "        imgs,labels,paths = data\n",
    "        paths = np.array([path.split('/')[-1][:-4].split('_') for path in paths]).astype(float)\n",
    "        paths /= 10.0 # normalize\n",
    "        positions = torch.from_numpy(paths).to(device)\n",
    "        avg_img = torch.from_numpy(loaded_avg_img).to(device)\n",
    "        imgs = imgs.to(device)\n",
    "        batch_size = imgs.shape[0]\n",
    "        width = imgs.shape[2]\n",
    "        height = imgs.shape[3]\n",
    "        \n",
    "        avg_img = Variable(avg_img.type(FloatTensor))\n",
    "        light_coord = Variable(positions.type(FloatTensor))\n",
    "        \n",
    "        for k in range(im_s):\n",
    "            for j in range(im_s):\n",
    "                pixel_value = Variable(imgs[:, 0, j, k].view(20, 1).type(FloatTensor))\n",
    "                pixel_coord = Variable(torch.FloatTensor([j/width, k/height])).repeat(1, 20).view(20, 2).to(device)\n",
    "                avg_value = Variable(avg_img[j + k * width].repeat(1, 20).view(20, 1).type(FloatTensor))\n",
    "                level = max_lvl\n",
    "                # find 3 or 5 nearest NN\n",
    "                size_of_cluster = min(5, len(cluster_lvl[level]))\n",
    "                top_nn_idxs = knns[level].kneighbors([[j/width,k/height]], return_distance=False)[0][:size_of_cluster]\n",
    "                total_loss = None\n",
    "                # zerograd the coarest level\n",
    "                for idx in top_nn_idxs:\n",
    "                    optimizer_lvl[level][idx].zero_grad()\n",
    "                # run ensemble and average\n",
    "                # measure the training error on the batch\n",
    "                for idx in top_nn_idxs:\n",
    "                    gen_pix = cluster_lvl[level][idx](pixel_coord, light_coord, avg_value)\n",
    "                    if total_loss == None:\n",
    "                        total_loss = loss(gen_pix, pixel_value / size_of_cluster)\n",
    "                    else:\n",
    "                        total_loss += loss(gen_pix, pixel_value / size_of_cluster)\n",
    "#                 total_loss /= len(top_nn_idxs) # it is not necessary to divide the loss\n",
    "                losses = total_loss.item()\n",
    "                total_loss.backward()\n",
    "                for idx in top_nn_idxs:\n",
    "                    optimizer_lvl[level][idx].step()\n",
    "                update_pixel(j, k, level)\n",
    "                print(\n",
    "                        \"[Epoch %d/%d] [Batch %d/%d] [Pixel %d-%d] [Level %d] [Loss: %f]\"\n",
    "                        % (epoch + 1, epochs, i + 1, len(train_loader), j, k, level, losses)\n",
    "                    )\n",
    "                while losses / torch.pow(torch.norm(pixel_value), 2).item() > 0.03 and level > 0:\n",
    "                    for idx in top_nn_idxs:\n",
    "                        optimizer_lvl[level][idx].zero_grad()\n",
    "                    level -= 1\n",
    "                    size_of_cluster = min(5, len(cluster_lvl[level]))\n",
    "                    top_nn_idxs = knns[level].kneighbors([[j/width,k/height]], return_distance=False)[0][:size_of_cluster]\n",
    "                    total_loss = None\n",
    "                    # run ensemble and average\n",
    "                    # measure the training error on the batch\n",
    "                    for idx in top_nn_idxs:\n",
    "                        gen_pix = cluster_lvl[level][idx](pixel_coord, light_coord, avg_value)\n",
    "                        if total_loss == None:\n",
    "                            total_loss = loss(gen_pix, pixel_value / size_of_cluster)\n",
    "                        else:\n",
    "                            total_loss += loss(gen_pix, pixel_value / size_of_cluster)\n",
    "#                         total_loss /= len(top_nn_idxs) # it is not necessary to divide the loss\n",
    "                    losses = total_loss.item()\n",
    "                    # back_prop will perform for individual network\n",
    "                    total_loss.backward()\n",
    "                    for idx in top_nn_idxs:\n",
    "                        optimizer_lvl[level][idx].step()\n",
    "                    update_pixel(j, k, level)\n",
    "                    print(\n",
    "                        \"[Epoch %d/%d] [Batch %d/%d] [Pixel %d-%d] [Level %d] [Loss: %f]\"\n",
    "                        % (epoch + 1, epochs, i + 1, len(train_loader), j, k, level, losses)\n",
    "                    )\n",
    "        clear_output(wait=True)\n",
    "        sample_image(1, loaded_avg_img)\n",
    "        plt.show()"
   ]
  },
  {
   "cell_type": "code",
   "execution_count": 147,
   "metadata": {},
   "outputs": [
    {
     "data": {
      "application/vnd.jupyter.widget-view+json": {
       "model_id": "984dd3854c934b3ca2e4420d97b9d4fc",
       "version_major": 2,
       "version_minor": 0
      },
      "text/plain": [
       "interactive(children=(FloatSlider(value=0.0, description='lr', max=1.0, min=-1.0), FloatSlider(value=0.0, desc…"
      ]
     },
     "metadata": {},
     "output_type": "display_data"
    },
    {
     "data": {
      "text/plain": [
       "<function __main__.test(lr, lc)>"
      ]
     },
     "execution_count": 147,
     "metadata": {},
     "output_type": "execute_result"
    }
   ],
   "source": [
    "from ipywidgets import interact\n",
    "\n",
    "def test(lr, lc):\n",
    "    sample_image(1, loaded_avg_img, lr, lc)\n",
    "    \n",
    "interact(test, lr=(-1, 1, .1), lc=(-1, 1, .1))"
   ]
  },
  {
   "cell_type": "code",
   "execution_count": null,
   "metadata": {},
   "outputs": [],
   "source": []
  }
 ],
 "metadata": {
  "kernelspec": {
   "display_name": "Python 3",
   "language": "python",
   "name": "python3"
  },
  "language_info": {
   "codemirror_mode": {
    "name": "ipython",
    "version": 3
   },
   "file_extension": ".py",
   "mimetype": "text/x-python",
   "name": "python",
   "nbconvert_exporter": "python",
   "pygments_lexer": "ipython3",
   "version": "3.7.8"
  }
 },
 "nbformat": 4,
 "nbformat_minor": 4
}
